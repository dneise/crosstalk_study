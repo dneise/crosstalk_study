{
 "cells": [
  {
   "cell_type": "markdown",
   "metadata": {},
   "source": [
    "I want to make a model for a simple and somehow idealized crosstalk mechanism.\n",
    "\n",
    "The following setup I have in mind:\n",
    " * random noise avalanches occur with a rate $R$, e.g. 4 MHz.\n",
    " * I look in a random time window of width $t_0$ for how many avalanches I see, e.g. 7ns.\n",
    " * If there was no crosstalk, the number of N \"noise\" avalanches I see in the window, \n",
    "    is simply given by the Poisson distribution:\n",
    "    $P_{\\mu}(N) = \\frac{\\mu^N}{N!} e^{-\\mu}$\n",
    " * If there is 1 initial avalanche, the probability to get M (additional) crosstalk-avalanches is simply given by the geometrical distribution $P_p(M) = p^M \\cdot (1-p)$.\n",
    " * $\\mu$ is simply given by the rate and the integration time window: $\\mu = R \\cdot t_0$, e.g. $\\mu = 0.07$.\n",
    " * $p$ should be interpreted as a **single-cell crosstalk probability** (SCCP), so the \"microscopic image\" I have in mind for this goes like this:\n",
    "   * Exactly one initial avalanche occurs.\n",
    "   * With some probability p it can trigger exactly one other cell.\n",
    "   * With 1-p it does not trigger another cell.\n",
    "   * If another cell is triggered, the game goes on...\n",
    "   \n",
    " \n",
    "In order to derive a nice and closed expression for the total number of avalanches $T$ we see in the integration windows as a function of only the accidental expectation value $\\mu$ and the SCCP $p$, we need some preparations.\n",
    "\n",
    "Assuming we have more than exactly 1 initial avalanches in our window, we call this number $N$. What is the distribution of additional avalanches $M$ due to crosstalk. Let us write down some examples:\n",
    "\n",
    " * $P_p(0 | 2) = (1-p)^2$ when we have two initials, we need two times $(1-p)$ to not get a single crosstalk.\n",
    " * $P_p(1 | 2) = (p^1 (1-p)^1) \\cdot (1-p)^1 + (1-p)^1 \\cdot (p^1(1-p)^1) = 2 \\cdot p(1-p)^2$ \n",
    "    In order to see exactly 1 additional (crosstalk) avalanche, when we had 2 initial (noise) avalanches, either the 1st must make exactly one crosstalk and then fail to make another, and the 2nd must not make any crosstalk **OR** the other way round, so the 1st must not make any crosstalk, while the 2nd makes exactly 1 crottalk. \n",
    "    \n",
    "With some mor examples and intuition we can write the probability to see exactly $M$ additional crosstalk avalanches, when one had $N$ noise avalanches as $P_p(M | N)$\n",
    "\n",
    "$P_p(M | N) = \\binom{M+N-1}{M} p^M (1-p)^N $\n",
    "\n",
    "with $\\binom{M+N-1}{M}$ being the binomial coefficient $\\binom{M+N-1}{M}  =  \\frac{(M+N-1)!}{M! \\cdot (N-1)!}$.\n",
    "\n",
    "Let us check if this is really a valid probability distribution. So it has to be normalized.\n",
    "\n"
   ]
  },
  {
   "cell_type": "code",
   "execution_count": 1,
   "metadata": {
    "collapsed": true
   },
   "outputs": [],
   "source": [
    "from scipy.special import binom\n",
    "def model(initial, additional, p=0.1):\n",
    "        N = initial\n",
    "        M = additional\n",
    "        \n",
    "        return binom((M+N-1), M) * p**M * (1-p)**N"
   ]
  },
  {
   "cell_type": "code",
   "execution_count": 2,
   "metadata": {},
   "outputs": [
    {
     "name": "stdout",
     "output_type": "stream",
     "text": [
      "initial:1\n",
      "    p:0.0 -> 1-sum(max_additional=20): 0.0\n",
      "    p:0.1 -> 1-sum(max_additional=20): 0.0\n",
      "    p:0.2 -> 1-sum(max_additional=20): 0.0\n",
      "    p:0.5 -> 1-sum(max_additional=20): 0.0\n",
      "    p:0.9 -> 1-sum(max_additional=20): 0.0\n",
      "    p:1.0 -> 1-sum(max_additional=20): 0.0\n",
      "initial:2\n",
      "    p:0.0 -> 1-sum(max_additional=20): 0.0\n",
      "    p:0.1 -> 1-sum(max_additional=20): 0.0\n",
      "    p:0.2 -> 1-sum(max_additional=20): 0.0\n",
      "    p:0.5 -> 1-sum(max_additional=20): 0.0\n",
      "    p:0.9 -> 1-sum(max_additional=20): 0.0\n",
      "    p:1.0 -> 1-sum(max_additional=20): 0.0\n",
      "initial:3\n",
      "    p:0.0 -> 1-sum(max_additional=20): 0.0\n",
      "    p:0.1 -> 1-sum(max_additional=20): 0.0\n",
      "    p:0.2 -> 1-sum(max_additional=20): 0.0\n",
      "    p:0.5 -> 1-sum(max_additional=20): 0.0\n",
      "    p:0.9 -> 1-sum(max_additional=20): 0.0\n",
      "    p:1.0 -> 1-sum(max_additional=20): 0.0\n",
      "initial:4\n",
      "    p:0.0 -> 1-sum(max_additional=20): 0.0\n",
      "    p:0.1 -> 1-sum(max_additional=20): 0.0\n",
      "    p:0.2 -> 1-sum(max_additional=20): 0.0\n",
      "    p:0.5 -> 1-sum(max_additional=20): 0.0\n",
      "    p:0.9 -> 1-sum(max_additional=20): 0.0\n",
      "    p:1.0 -> 1-sum(max_additional=20): 0.0\n",
      "initial:5\n",
      "    p:0.0 -> 1-sum(max_additional=20): 0.0\n",
      "    p:0.1 -> 1-sum(max_additional=20): 0.0\n",
      "    p:0.2 -> 1-sum(max_additional=20): 0.0\n",
      "    p:0.5 -> 1-sum(max_additional=20): 0.0\n",
      "    p:0.9 -> 1-sum(max_additional=20): 0.0\n",
      "    p:1.0 -> 1-sum(max_additional=20): 0.0\n",
      "initial:6\n",
      "    p:0.0 -> 1-sum(max_additional=20): 0.0\n",
      "    p:0.1 -> 1-sum(max_additional=20): 0.0\n",
      "    p:0.2 -> 1-sum(max_additional=20): 0.0\n",
      "    p:0.5 -> 1-sum(max_additional=20): 0.0\n",
      "    p:0.9 -> 1-sum(max_additional=20): 0.0\n",
      "    p:1.0 -> 1-sum(max_additional=20): 0.0\n",
      "initial:7\n",
      "    p:0.0 -> 1-sum(max_additional=20): 0.0\n",
      "    p:0.1 -> 1-sum(max_additional=20): 0.0\n",
      "    p:0.2 -> 1-sum(max_additional=20): 0.0\n",
      "    p:0.5 -> 1-sum(max_additional=20): 0.0\n",
      "    p:0.9 -> 1-sum(max_additional=20): 0.0\n",
      "    p:1.0 -> 1-sum(max_additional=20): 0.0\n",
      "initial:8\n",
      "    p:0.0 -> 1-sum(max_additional=20): 0.0\n",
      "    p:0.1 -> 1-sum(max_additional=20): 0.0\n",
      "    p:0.2 -> 1-sum(max_additional=20): 0.0\n",
      "    p:0.5 -> 1-sum(max_additional=20): 0.0\n",
      "    p:0.9 -> 1-sum(max_additional=20): 0.0\n",
      "    p:1.0 -> 1-sum(max_additional=20): 0.0\n",
      "initial:9\n",
      "    p:0.0 -> 1-sum(max_additional=20): 0.0\n",
      "    p:0.1 -> 1-sum(max_additional=20): 0.0\n",
      "    p:0.2 -> 1-sum(max_additional=20): 0.0\n",
      "    p:0.5 -> 1-sum(max_additional=20): 0.0\n",
      "    p:0.9 -> 1-sum(max_additional=20): 0.0\n",
      "    p:1.0 -> 1-sum(max_additional=20): 0.0\n"
     ]
    }
   ],
   "source": [
    "max_additional=20\n",
    "for i in range(1, 10):\n",
    "    print('initial:{i}'.format(i=i))\n",
    "    for p in [0., 0.1, 0.2, 0.5, 0.9, 1.]:\n",
    "        s = 0 \n",
    "        for a in range(max_additional):\n",
    "            P = model(initial=1, additional=a)\n",
    "            s += P\n",
    "        print('    p:{p} -> 1-sum(max_additional={N}): {s}'.format(\n",
    "            p=p,\n",
    "            N=max_additional,\n",
    "            s=1-s,\n",
    "        ))"
   ]
  },
  {
   "cell_type": "code",
   "execution_count": 3,
   "metadata": {
    "collapsed": true
   },
   "outputs": [],
   "source": [
    "%matplotlib inline\n",
    "from matplotlib.colors import LogNorm"
   ]
  },
  {
   "cell_type": "code",
   "execution_count": 4,
   "metadata": {},
   "outputs": [
    {
     "data": {
      "image/png": "[encoded data removed]",
      "text/plain": [
       "<matplotlib.figure.Figure at 0x7f35f59cd080>"
      ]
     },
     "metadata": {},
     "output_type": "display_data"
    }
   ],
   "source": [
    "p = 0.1\n",
    "P = np.zeros((20, 10))\n",
    "for i in range(1, 11):\n",
    "    for a in range(20):\n",
    "        P[a, i-1] = model(initial=i, additional=a, p=p)\n",
    "plt.matshow(\n",
    "    P, \n",
    "    norm=LogNorm(),\n",
    ")\n",
    "plt.colorbar();\n",
    "ax = plt.gca()\n",
    "ax.xaxis.set_ticks_position('bottom');\n",
    "plt.xticks(np.arange(0, 10, 2), np.arange(0, 10, 2)+1);\n",
    "plt.xlabel('initial avalanches')\n",
    "plt.ylabel('additional avalanches');"
   ]
  },
  {
   "cell_type": "code",
   "execution_count": 5,
   "metadata": {},
   "outputs": [
    {
     "data": {
      "text/plain": [
       "array([1., 1., 1., 1., 1., 1., 1., 1., 1., 1.])"
      ]
     },
     "execution_count": 5,
     "metadata": {},
     "output_type": "execute_result"
    }
   ],
   "source": [
    "P.sum(axis=0)"
   ]
  },
  {
   "cell_type": "code",
   "execution_count": 6,
   "metadata": {},
   "outputs": [
    {
     "data": {
      "image/png": "[encoded data removed]",
      "text/plain": [
       "<matplotlib.figure.Figure at 0x7f35b09fbc88>"
      ]
     },
     "metadata": {},
     "output_type": "display_data"
    }
   ],
   "source": [
    "plt.matshow(P)\n",
    "plt.colorbar();\n",
    "ax = plt.gca()\n",
    "ax.xaxis.set_ticks_position('bottom');\n",
    "plt.xticks(np.arange(0, 10, 2), np.arange(0, 10, 2)+1);\n",
    "plt.xlabel('initial avalanches')\n",
    "plt.ylabel('additional avalanches');"
   ]
  },
  {
   "cell_type": "code",
   "execution_count": 7,
   "metadata": {},
   "outputs": [
    {
     "data": {
      "image/png": "[encoded data removed]",
      "text/plain": [
       "<matplotlib.figure.Figure at 0x7f35b094cf98>"
      ]
     },
     "metadata": {},
     "output_type": "display_data"
    }
   ],
   "source": [
    "p = 0.1\n",
    "P = np.zeros((10, 20))\n",
    "for i in range(1, 11):\n",
    "    for a in range(20):\n",
    "        P[i-1, a] = model(initial=i, additional=a, p=p)\n",
    "plt.matshow(\n",
    "    P, \n",
    "    #norm=LogNorm(),\n",
    ")\n",
    "plt.colorbar();\n",
    "ax = plt.gca()\n",
    "ax.xaxis.set_ticks_position('bottom');\n",
    "plt.yticks(np.arange(0, 10, 2), np.arange(0, 10, 2)+1);\n",
    "plt.ylabel('N: initial avalanches')\n",
    "plt.xlabel('M: additional avalanches');\n",
    "plt.title(\"Probability for M add. a. when N initial a. are there.\");\n"
   ]
  },
  {
   "cell_type": "code",
   "execution_count": 8,
   "metadata": {},
   "outputs": [
    {
     "data": {
      "text/plain": [
       "array([1., 1., 1., 1., 1., 1., 1., 1., 1., 1.])"
      ]
     },
     "execution_count": 8,
     "metadata": {},
     "output_type": "execute_result"
    }
   ],
   "source": [
    "# normalization ? \n",
    "P.sum(axis=1)\n",
    "# yepp ... still good"
   ]
  },
  {
   "cell_type": "code",
   "execution_count": 9,
   "metadata": {},
   "outputs": [
    {
     "data": {
      "text/plain": [
       "(10, 20)"
      ]
     },
     "execution_count": 9,
     "metadata": {},
     "output_type": "execute_result"
    }
   ],
   "source": [
    "P.shape"
   ]
  },
  {
   "cell_type": "code",
   "execution_count": 10,
   "metadata": {},
   "outputs": [
    {
     "data": {
      "image/png": "[encoded data removed]",
      "text/plain": [
       "<matplotlib.figure.Figure at 0x7f35b0b19d68>"
      ]
     },
     "metadata": {},
     "output_type": "display_data"
    }
   ],
   "source": [
    "# expectation values\n",
    "expectation = (P * np.arange(20)).sum(axis=1)\n",
    "plt.plot(\n",
    "    np.arange(10),\n",
    "    expectation,\n",
    "    '.:',\n",
    ")\n",
    "plt.xlabel('initial avalanches')\n",
    "plt.ylabel('expected additional avalanches');\n",
    "plt.title(\"a simple line, just as we would expect\");"
   ]
  },
  {
   "cell_type": "markdown",
   "metadata": {},
   "source": [
    "Now we can try to write down the probability to observe K avalanches, without knowing how many where initial and how many where additional.\n",
    "\n",
    "I want to do it like this\n",
    "\\begin{eqnarray}\n",
    "P_{\\mu,p}(K) &=& \\sum_{i=0}^K P_\\mu(i) \\cdot P_p(K-i|i) \\\\\n",
    " &=& \\sum_{i=0}^K \\frac{\\mu^i}{i!} e^{-\\mu} \\cdot \\binom{K-1}{K-i} p^{K-i} (1-p)^i\n",
    "\\end{eqnarray}\n",
    "\n",
    "for $K=0$ we have a special case of initial $i=0$ and observed $K=0$. we want to argue, the probability to see zero additional avalanches in case of zero initial avalanches is 1. The probability to see more than zero additional avalanches in case of zero initial avalanches is exactly zero. \n",
    "We build this as a special case in to the model:"
   ]
  },
  {
   "cell_type": "code",
   "execution_count": 11,
   "metadata": {
    "collapsed": true
   },
   "outputs": [],
   "source": [
    "from scipy.special import binom\n",
    "def model(initial, additional, p=0.1):\n",
    "        N = initial\n",
    "        M = additional\n",
    "        #print('MODEL', M, N)\n",
    "        if N==0 and M==0:\n",
    "            return 1\n",
    "        if N==0 and M!=0:\n",
    "            return 0\n",
    "\n",
    "        return binom((M+N-1), M) * p**M * (1-p)**N"
   ]
  },
  {
   "cell_type": "code",
   "execution_count": 12,
   "metadata": {},
   "outputs": [
    {
     "data": {
      "image/png": "[encoded data removed]",
      "text/plain": [
       "<matplotlib.figure.Figure at 0x7f35b07ea400>"
      ]
     },
     "metadata": {},
     "output_type": "display_data"
    }
   ],
   "source": [
    "p = 0.1\n",
    "P = np.zeros((10, 20))\n",
    "for i in range(10):\n",
    "    for a in range(20):\n",
    "        P[i, a] = model(initial=i, additional=a, p=p)\n",
    "plt.matshow(\n",
    "    P, \n",
    "    #norm=LogNorm(),\n",
    ")\n",
    "plt.colorbar();\n",
    "ax = plt.gca()\n",
    "ax.xaxis.set_ticks_position('bottom')\n",
    "plt.ylabel('N: initial avalanches')\n",
    "plt.xlabel('M: additional avalanches')\n",
    "plt.title(\"Probability for M add. a. when N initial a. are there.\");"
   ]
  },
  {
   "cell_type": "code",
   "execution_count": 13,
   "metadata": {},
   "outputs": [
    {
     "data": {
      "image/png": "[encoded data removed]",
      "text/plain": [
       "<matplotlib.figure.Figure at 0x7f35b0782cc0>"
      ]
     },
     "metadata": {},
     "output_type": "display_data"
    }
   ],
   "source": [
    "# expectation values\n",
    "expectation = (P * np.arange(20)).sum(axis=1)\n",
    "plt.plot(\n",
    "    np.arange(10),\n",
    "    expectation,\n",
    "    '.:',\n",
    ")\n",
    "plt.xlabel('initial avalanches')\n",
    "plt.ylabel('expected additional avalanches');\n",
    "plt.title(\"a simple line, just as we would expect\");"
   ]
  },
  {
   "cell_type": "code",
   "execution_count": 14,
   "metadata": {
    "collapsed": true
   },
   "outputs": [],
   "source": [
    "from scipy.special import factorial"
   ]
  },
  {
   "cell_type": "code",
   "execution_count": 15,
   "metadata": {
    "collapsed": true
   },
   "outputs": [],
   "source": [
    "def poisson(N, mu=0.07):\n",
    "    return mu**N / factorial(N) * np.exp(-mu)\n",
    "\n",
    "def proba_for_K(K, mu=0.07, p=0.1):\n",
    "    s = 0\n",
    "    for i in range(K+1):\n",
    "        poiss = poisson(N=i, mu=mu)\n",
    "        mod = model(initial=i, additional=K-i, p=p)\n",
    "        #print('initial:', i, 'possion', poiss, 'model:', mod)\n",
    "        s +=  poiss * mod \n",
    "    return s"
   ]
  },
  {
   "cell_type": "code",
   "execution_count": 16,
   "metadata": {},
   "outputs": [
    {
     "name": "stdout",
     "output_type": "stream",
     "text": [
      "mu:0.05\n",
      "  p:0.05, S:1.00\n",
      "  p:0.09, S:1.00\n",
      "  p:0.12, S:1.00\n",
      "  p:0.16, S:1.00\n",
      "  p:0.20, S:1.00\n",
      "mu:0.06\n",
      "  p:0.05, S:1.00\n",
      "  p:0.09, S:1.00\n",
      "  p:0.12, S:1.00\n",
      "  p:0.16, S:1.00\n",
      "  p:0.20, S:1.00\n",
      "mu:0.08\n",
      "  p:0.05, S:1.00\n",
      "  p:0.09, S:1.00\n",
      "  p:0.12, S:1.00\n",
      "  p:0.16, S:1.00\n",
      "  p:0.20, S:1.00\n",
      "mu:0.09\n",
      "  p:0.05, S:1.00\n",
      "  p:0.09, S:1.00\n",
      "  p:0.12, S:1.00\n",
      "  p:0.16, S:1.00\n",
      "  p:0.20, S:1.00\n",
      "mu:0.10\n",
      "  p:0.05, S:1.00\n",
      "  p:0.09, S:1.00\n",
      "  p:0.12, S:1.00\n",
      "  p:0.16, S:1.00\n",
      "  p:0.20, S:1.00\n"
     ]
    }
   ],
   "source": [
    "max_K = 50\n",
    "for mu in np.linspace(0.05, 0.10, 5):\n",
    "    print('mu:{mu:.2f}'.format(mu=mu))\n",
    "    for p in np.linspace(0.05, 0.2, 5):\n",
    "        s = 0\n",
    "        for k in range(max_K):\n",
    "            P = proba_for_K(K=k, mu=mu, p=p)\n",
    "            s += P\n",
    "            #print(k, P, s)\n",
    "        print('  p:{p:.2f}, S:{S:.2f}'.format(\n",
    "            mu=mu,\n",
    "            p=p,\n",
    "            S=s\n",
    "        ))\n"
   ]
  },
  {
   "cell_type": "code",
   "execution_count": 17,
   "metadata": {},
   "outputs": [
    {
     "data": {
      "text/plain": [
       "(1.0, 0.06760618009405177, 0.008865369439977034)"
      ]
     },
     "execution_count": 17,
     "metadata": {},
     "output_type": "execute_result"
    },
    {
     "data": {
      "image/png": "[encoded data removed]",
      "text/plain": [
       "<matplotlib.figure.Figure at 0x7f35b06ecc88>"
      ]
     },
     "metadata": {},
     "output_type": "display_data"
    }
   ],
   "source": [
    "ks = np.arange(20)\n",
    "mu = 0.07\n",
    "p = 0.1\n",
    "P = np.array([proba_for_K(k, mu=mu, p=p) for k in ks])\n",
    "plt.bar(ks, P, log=True);\n",
    "\n",
    "P.sum(), P[1:].sum(), P[2:].sum()"
   ]
  },
  {
   "cell_type": "code",
   "execution_count": 18,
   "metadata": {},
   "outputs": [],
   "source": [
    "p_ct = P[2:].sum() / P[1:].sum()"
   ]
  },
  {
   "cell_type": "code",
   "execution_count": 19,
   "metadata": {},
   "outputs": [
    {
     "data": {
      "image/png": "[encoded data removed]",
      "text/plain": [
       "<matplotlib.figure.Figure at 0x7f35b0678160>"
      ]
     },
     "metadata": {},
     "output_type": "display_data"
    }
   ],
   "source": [
    "p_ct_s = []\n",
    "rate = np.linspace(1e-10, 20, 7) * 1e6\n",
    "t_window = 7e-9\n",
    "mus = rate * t_window\n",
    "p = 0.1\n",
    "for mu in mus:\n",
    "    ks = np.arange(20)\n",
    "    P = np.array([proba_for_K(k, mu=mu, p=p) for k in ks])\n",
    "    p_ct = P[2:].sum() / P[1:].sum()\n",
    "    p_ct_s.append(p_ct)\n",
    "plt.plot(rate/1e6, p_ct_s, '.:')\n",
    "plt.xlabel('rate / MHz')\n",
    "plt.ylabel('p_ct nach unserer definition');"
   ]
  },
  {
   "cell_type": "code",
   "execution_count": null,
   "metadata": {
    "collapsed": true
   },
   "outputs": [],
   "source": []
  }
 ],
 "metadata": {
  "kernelspec": {
   "display_name": "Python 3",
   "language": "python",
   "name": "python3"
  },
  "language_info": {
   "codemirror_mode": {
    "name": "ipython",
    "version": 3
   },
   "file_extension": ".py",
   "mimetype": "text/x-python",
   "name": "python",
   "nbconvert_exporter": "python",
   "pygments_lexer": "ipython3",
   "version": "3.6.3"
  }
 },
 "nbformat": 4,
 "nbformat_minor": 2
}
