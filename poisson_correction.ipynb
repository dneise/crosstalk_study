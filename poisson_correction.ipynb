{
 "cells": [
  {
   "cell_type": "code",
   "execution_count": 1,
   "metadata": {},
   "outputs": [
    {
     "name": "stderr",
     "output_type": "stream",
     "text": [
      "/home/dneise/anaconda3/lib/python3.6/site-packages/h5py/__init__.py:36: FutureWarning: Conversion of the second argument of issubdtype from `float` to `np.floating` is deprecated. In future, it will be treated as `np.float64 == np.dtype(float).type`.\n",
      "  from ._conv import register_converters as _register_converters\n"
     ]
    }
   ],
   "source": [
    "import h5py\n",
    "from scipy.stats import poisson\n",
    "from scipy.special import factorial\n",
    "import numpy as np\n",
    "import pandas as pd\n",
    "import matplotlib.pyplot as plt\n",
    "%matplotlib inline"
   ]
  },
  {
   "cell_type": "code",
   "execution_count": 2,
   "metadata": {},
   "outputs": [
    {
     "name": "stdout",
     "output_type": "stream",
     "text": [
      "crosstalk_thoughts.ipynb                 \u001b[0m\u001b[01;35mperformance_of_correction.png\u001b[0m\r\n",
      "\u001b[01;35mcrosstalk_vs_rate.jpg\u001b[0m                    \u001b[01;34mplots_from_jens\u001b[0m/\r\n",
      "\u001b[01;35mfoo.png\u001b[0m                                  poisson_correction.ipynb\r\n",
      "\u001b[01;35mfoo.svg\u001b[0m                                  README.md\r\n",
      "\u001b[01;35mformula_foo.png\u001b[0m                          single_pe_spectra.hdf\r\n",
      "gedankenexperiment_with_crosstalk.ipynb  Untitled2.ipynb\r\n",
      "\u001b[01;34mpapers\u001b[0m/\r\n"
     ]
    }
   ],
   "source": [
    "ls"
   ]
  },
  {
   "cell_type": "code",
   "execution_count": 3,
   "metadata": {
    "collapsed": true
   },
   "outputs": [],
   "source": [
    "input_file_path = './single_pe_spectra.hdf'"
   ]
  },
  {
   "cell_type": "code",
   "execution_count": 4,
   "metadata": {},
   "outputs": [
    {
     "name": "stdout",
     "output_type": "stream",
     "text": [
      "Baseline | Chi2 | CoeffR | Crosstalk | FitProb | Gain | Noise | NormGain | Pxtalk | Rate | RelSigma | Signal\n"
     ]
    }
   ],
   "source": [
    "with h5py.File(input_file_path) as f:\n",
    "    keys = list(f.keys())\n",
    "    print(*keys, sep=\" | \")"
   ]
  },
  {
   "cell_type": "code",
   "execution_count": 5,
   "metadata": {
    "collapsed": true
   },
   "outputs": [],
   "source": [
    "R = pd.read_hdf(input_file_path, key='Rate')\n",
    "p = pd.read_hdf(input_file_path, key='Pxtalk')\n",
    "nu = pd.read_hdf(input_file_path, key='CoeffR')\n",
    "p_xt = pd.read_hdf(input_file_path, key='Crosstalk')"
   ]
  },
  {
   "cell_type": "code",
   "execution_count": 6,
   "metadata": {
    "collapsed": true
   },
   "outputs": [],
   "source": [
    "t_0 = 7e-9  # the effective integration window. We could somehow get this number from data, I think...\n",
    "Nmax = 20"
   ]
  },
  {
   "cell_type": "code",
   "execution_count": 7,
   "metadata": {},
   "outputs": [],
   "source": [
    "mu = R * 1e6 * t_0\n",
    "q = p * np.exp(-p)"
   ]
  },
  {
   "cell_type": "code",
   "execution_count": 8,
   "metadata": {},
   "outputs": [],
   "source": [
    "P_mu = poisson.pmf(k=np.arange(0, Nmax)[:, None], mu=mu)"
   ]
  },
  {
   "cell_type": "code",
   "execution_count": 9,
   "metadata": {},
   "outputs": [],
   "source": [
    "def calc_Pn(N, q, nu):\n",
    "    Ns = np.atleast_1d(N)\n",
    "    result = np.zeros((len(N), q.shape[1]))\n",
    "    for i, N in enumerate(Ns):\n",
    "         result[i] = (q*N)**(N-1) / (factorial(N-1))**nu\n",
    "    return result"
   ]
  },
  {
   "cell_type": "code",
   "execution_count": 10,
   "metadata": {},
   "outputs": [],
   "source": [
    "Ns = np.arange(1, Nmax+1)\n",
    "Pn = calc_Pn(Ns, q, nu)"
   ]
  },
  {
   "cell_type": "code",
   "execution_count": 11,
   "metadata": {},
   "outputs": [
    {
     "data": {
      "text/plain": [
       "((20, 1440), (20, 1440))"
      ]
     },
     "execution_count": 11,
     "metadata": {},
     "output_type": "execute_result"
    }
   ],
   "source": [
    "Pn.shape, P_mu.shape"
   ]
  },
  {
   "cell_type": "code",
   "execution_count": 12,
   "metadata": {},
   "outputs": [],
   "source": [
    "Pn /= Pn.sum(axis=0)"
   ]
  },
  {
   "cell_type": "code",
   "execution_count": 13,
   "metadata": {},
   "outputs": [],
   "source": [
    "Foo = Pn - P_mu"
   ]
  },
  {
   "cell_type": "code",
   "execution_count": 14,
   "metadata": {},
   "outputs": [
    {
     "data": {
      "text/html": [
       "<div>\n",
       "<style scoped>\n",
       "    .dataframe tbody tr th:only-of-type {\n",
       "        vertical-align: middle;\n",
       "    }\n",
       "\n",
       "    .dataframe tbody tr th {\n",
       "        vertical-align: top;\n",
       "    }\n",
       "\n",
       "    .dataframe thead th {\n",
       "        text-align: right;\n",
       "    }\n",
       "</style>\n",
       "<table border=\"1\" class=\"dataframe\">\n",
       "  <thead>\n",
       "    <tr style=\"text-align: right;\">\n",
       "      <th></th>\n",
       "      <th></th>\n",
       "      <th>0</th>\n",
       "      <th>1</th>\n",
       "      <th>2</th>\n",
       "      <th>3</th>\n",
       "      <th>4</th>\n",
       "      <th>5</th>\n",
       "      <th>6</th>\n",
       "      <th>7</th>\n",
       "      <th>8</th>\n",
       "      <th>9</th>\n",
       "      <th>...</th>\n",
       "      <th>1430</th>\n",
       "      <th>1431</th>\n",
       "      <th>1432</th>\n",
       "      <th>1433</th>\n",
       "      <th>1434</th>\n",
       "      <th>1435</th>\n",
       "      <th>1436</th>\n",
       "      <th>1437</th>\n",
       "      <th>1438</th>\n",
       "      <th>1439</th>\n",
       "    </tr>\n",
       "    <tr>\n",
       "      <th>night</th>\n",
       "      <th>run_id</th>\n",
       "      <th></th>\n",
       "      <th></th>\n",
       "      <th></th>\n",
       "      <th></th>\n",
       "      <th></th>\n",
       "      <th></th>\n",
       "      <th></th>\n",
       "      <th></th>\n",
       "      <th></th>\n",
       "      <th></th>\n",
       "      <th></th>\n",
       "      <th></th>\n",
       "      <th></th>\n",
       "      <th></th>\n",
       "      <th></th>\n",
       "      <th></th>\n",
       "      <th></th>\n",
       "      <th></th>\n",
       "      <th></th>\n",
       "      <th></th>\n",
       "      <th></th>\n",
       "    </tr>\n",
       "  </thead>\n",
       "  <tbody>\n",
       "    <tr>\n",
       "      <th>2017-12-23</th>\n",
       "      <th>0</th>\n",
       "      <td>0.146648</td>\n",
       "      <td>0.150309</td>\n",
       "      <td>0.13104</td>\n",
       "      <td>0.130837</td>\n",
       "      <td>0.146146</td>\n",
       "      <td>0.136665</td>\n",
       "      <td>0.16946</td>\n",
       "      <td>0.172331</td>\n",
       "      <td>0.140599</td>\n",
       "      <td>0.122513</td>\n",
       "      <td>...</td>\n",
       "      <td>0.132108</td>\n",
       "      <td>0.13999</td>\n",
       "      <td>0.166443</td>\n",
       "      <td>0.127064</td>\n",
       "      <td>0.160327</td>\n",
       "      <td>0.168607</td>\n",
       "      <td>0.144601</td>\n",
       "      <td>0.172661</td>\n",
       "      <td>0.153444</td>\n",
       "      <td>0.154155</td>\n",
       "    </tr>\n",
       "  </tbody>\n",
       "</table>\n",
       "<p>1 rows × 1440 columns</p>\n",
       "</div>"
      ],
      "text/plain": [
       "                       0         1        2         3         4         5     \\\n",
       "night      run_id                                                              \n",
       "2017-12-23 0       0.146648  0.150309  0.13104  0.130837  0.146146  0.136665   \n",
       "\n",
       "                      6         7         8         9       ...         1430  \\\n",
       "night      run_id                                           ...                \n",
       "2017-12-23 0       0.16946  0.172331  0.140599  0.122513    ...     0.132108   \n",
       "\n",
       "                      1431      1432      1433      1434      1435      1436  \\\n",
       "night      run_id                                                              \n",
       "2017-12-23 0       0.13999  0.166443  0.127064  0.160327  0.168607  0.144601   \n",
       "\n",
       "                       1437      1438      1439  \n",
       "night      run_id                                \n",
       "2017-12-23 0       0.172661  0.153444  0.154155  \n",
       "\n",
       "[1 rows x 1440 columns]"
      ]
     },
     "execution_count": 14,
     "metadata": {},
     "output_type": "execute_result"
    }
   ],
   "source": [
    "p_xt"
   ]
  },
  {
   "cell_type": "code",
   "execution_count": 15,
   "metadata": {},
   "outputs": [
    {
     "data": {
      "text/html": [
       "<div>\n",
       "<style scoped>\n",
       "    .dataframe tbody tr th:only-of-type {\n",
       "        vertical-align: middle;\n",
       "    }\n",
       "\n",
       "    .dataframe tbody tr th {\n",
       "        vertical-align: top;\n",
       "    }\n",
       "\n",
       "    .dataframe thead th {\n",
       "        text-align: right;\n",
       "    }\n",
       "</style>\n",
       "<table border=\"1\" class=\"dataframe\">\n",
       "  <thead>\n",
       "    <tr style=\"text-align: right;\">\n",
       "      <th></th>\n",
       "      <th></th>\n",
       "      <th>0</th>\n",
       "      <th>1</th>\n",
       "      <th>2</th>\n",
       "      <th>3</th>\n",
       "      <th>4</th>\n",
       "      <th>5</th>\n",
       "      <th>6</th>\n",
       "      <th>7</th>\n",
       "      <th>8</th>\n",
       "      <th>9</th>\n",
       "      <th>...</th>\n",
       "      <th>1430</th>\n",
       "      <th>1431</th>\n",
       "      <th>1432</th>\n",
       "      <th>1433</th>\n",
       "      <th>1434</th>\n",
       "      <th>1435</th>\n",
       "      <th>1436</th>\n",
       "      <th>1437</th>\n",
       "      <th>1438</th>\n",
       "      <th>1439</th>\n",
       "    </tr>\n",
       "    <tr>\n",
       "      <th>night</th>\n",
       "      <th>run_id</th>\n",
       "      <th></th>\n",
       "      <th></th>\n",
       "      <th></th>\n",
       "      <th></th>\n",
       "      <th></th>\n",
       "      <th></th>\n",
       "      <th></th>\n",
       "      <th></th>\n",
       "      <th></th>\n",
       "      <th></th>\n",
       "      <th></th>\n",
       "      <th></th>\n",
       "      <th></th>\n",
       "      <th></th>\n",
       "      <th></th>\n",
       "      <th></th>\n",
       "      <th></th>\n",
       "      <th></th>\n",
       "      <th></th>\n",
       "      <th></th>\n",
       "      <th></th>\n",
       "    </tr>\n",
       "  </thead>\n",
       "  <tbody>\n",
       "    <tr>\n",
       "      <th>2017-12-23</th>\n",
       "      <th>0</th>\n",
       "      <td>9.381642e-10</td>\n",
       "      <td>-2.369956e-09</td>\n",
       "      <td>-9.820424e-10</td>\n",
       "      <td>5.589326e-09</td>\n",
       "      <td>-4.397253e-10</td>\n",
       "      <td>-1.242334e-08</td>\n",
       "      <td>-5.901584e-09</td>\n",
       "      <td>5.153019e-09</td>\n",
       "      <td>1.308889e-08</td>\n",
       "      <td>-4.687315e-09</td>\n",
       "      <td>...</td>\n",
       "      <td>-6.196588e-09</td>\n",
       "      <td>-2.269467e-09</td>\n",
       "      <td>2.759441e-09</td>\n",
       "      <td>7.791574e-07</td>\n",
       "      <td>-1.280573e-09</td>\n",
       "      <td>0.000027</td>\n",
       "      <td>1.241569e-07</td>\n",
       "      <td>2.776807e-07</td>\n",
       "      <td>1.104640e-08</td>\n",
       "      <td>-5.316278e-09</td>\n",
       "    </tr>\n",
       "  </tbody>\n",
       "</table>\n",
       "<p>1 rows × 1440 columns</p>\n",
       "</div>"
      ],
      "text/plain": [
       "                           0             1             2             3     \\\n",
       "night      run_id                                                           \n",
       "2017-12-23 0       9.381642e-10 -2.369956e-09 -9.820424e-10  5.589326e-09   \n",
       "\n",
       "                           4             5             6             7     \\\n",
       "night      run_id                                                           \n",
       "2017-12-23 0      -4.397253e-10 -1.242334e-08 -5.901584e-09  5.153019e-09   \n",
       "\n",
       "                           8             9         ...               1430  \\\n",
       "night      run_id                                  ...                      \n",
       "2017-12-23 0       1.308889e-08 -4.687315e-09      ...      -6.196588e-09   \n",
       "\n",
       "                           1431          1432          1433          1434  \\\n",
       "night      run_id                                                           \n",
       "2017-12-23 0      -2.269467e-09  2.759441e-09  7.791574e-07 -1.280573e-09   \n",
       "\n",
       "                       1435          1436          1437          1438  \\\n",
       "night      run_id                                                       \n",
       "2017-12-23 0       0.000027  1.241569e-07  2.776807e-07  1.104640e-08   \n",
       "\n",
       "                           1439  \n",
       "night      run_id                \n",
       "2017-12-23 0      -5.316278e-09  \n",
       "\n",
       "[1 rows x 1440 columns]"
      ]
     },
     "execution_count": 15,
     "metadata": {},
     "output_type": "execute_result"
    }
   ],
   "source": [
    "Pn[1:].sum(axis=0) - p_xt"
   ]
  },
  {
   "cell_type": "code",
   "execution_count": 16,
   "metadata": {},
   "outputs": [
    {
     "data": {
      "text/plain": [
       "array([0.1174864 , 0.11970776, 0.10049618, ..., 0.1468643 , 0.12508215,\n",
       "       0.12724501])"
      ]
     },
     "execution_count": 16,
     "metadata": {},
     "output_type": "execute_result"
    }
   ],
   "source": [
    "p_ct_corrected = Foo[1:].sum(axis=0) / Pn.sum(axis=0)\n",
    "p_ct_corrected"
   ]
  },
  {
   "cell_type": "code",
   "execution_count": 17,
   "metadata": {},
   "outputs": [
    {
     "data": {
      "image/png": "[encoded data removed]",
      "text/plain": [
       "<matplotlib.figure.Figure at 0x7fb64f2bc1d0>"
      ]
     },
     "metadata": {},
     "output_type": "display_data"
    }
   ],
   "source": [
    "plt.bar(Ns, Pn[:, 0], log=True, label='Pn')\n",
    "plt.bar(Ns, P_mu[:, 0], log=True, label='P_mu')\n",
    "plt.title(\"Pixel 0\");"
   ]
  },
  {
   "cell_type": "code",
   "execution_count": null,
   "metadata": {
    "collapsed": true
   },
   "outputs": [],
   "source": []
  }
 ],
 "metadata": {
  "kernelspec": {
   "display_name": "Python 3",
   "language": "python",
   "name": "python3"
  },
  "language_info": {
   "codemirror_mode": {
    "name": "ipython",
    "version": 3
   },
   "file_extension": ".py",
   "mimetype": "text/x-python",
   "name": "python",
   "nbconvert_exporter": "python",
   "pygments_lexer": "ipython3",
   "version": "3.6.3"
  }
 },
 "nbformat": 4,
 "nbformat_minor": 2
}
