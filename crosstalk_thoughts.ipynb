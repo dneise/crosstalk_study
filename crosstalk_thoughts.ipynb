{
 "cells": [
  {
   "cell_type": "markdown",
   "metadata": {},
   "source": [
    "# How to measure crosstalk with FACT\n",
    "\n",
    "In our [Performance paper](http://iopscience.iop.org/article/10.1088/1748-0221/9/10/P10012/meta) we nicely describe that the multiplicity distribution which is actually measured can be nicely fit with this distribution, which is called \"modified Erlang distribution\". \n",
    "\n",
    "$ P_N(q, \\nu) = \\frac{(Nq)^{N-1}}{[(N-1)!]^{\\nu}} $\n",
    "\n",
    "We should note that this modification parameter $\\nu$ turns out to be really close to 1, in figure 3 it looks like it is even compatible with 1, in table 4 the value $ \\nu = 0.93715 \\approx 0.94$ is given, without uncertainties.\n",
    "\n",
    "Also it should be noted that this distribution is not nicely normalized, so $\\sum P_N \\neq 1$! Let us call this normalization $S_{q\\nu}$ and redefine $P_N$ like this:\n",
    "\n",
    "$ P_N(q, \\nu) = \\frac{1}{S_{q\\nu}} \\cdot \\frac{(Nq)^{N-1}}{[(N-1)!]^{\\nu}} $\n",
    "\n",
    "So that now $\\sum P_N = 1$!\n",
    "\n",
    "Now the **definition** of the crosstalk probability $p_{xt}$ from the paper transforms into:\n",
    "\n",
    "$ p_{xt}(q, \\nu) = \\sum_{n=2}^{\\infty} P_n(q, \\nu) $\n",
    "\n",
    "## Without crosstalk\n",
    "\n",
    "Now let us switch off crosstalk for a moment and look at our sensor. We can model accidental avalanches as a simple poissonian process now. So without crosstalk the probability $Q$ to observe a certain multiplicity N can be written as:\n",
    "\n",
    "$ Q_N(\\lambda) = \\frac{\\lambda^{(N-1)}}{(N-1)!} e^{-\\lambda} $\n",
    "\n",
    "The term N-1 comes from the fact, that we always see at least one avalanche with our measurement method, This distribution is nicely normalized, i.e. $\\sum_{n=1}^{\\infty} Q_n = 1$.\n",
    "\n",
    "So if we apply our definition of the crosstalk $p_{xt}$ to this distribution, we can directly see:\n",
    "\n",
    "$ p_{xt}(\\lambda) = \\sum_{n=2}^{\\infty} Q_n(\\lambda) = \\sum_{n=1}^{\\infty} Q_n - Q_1 = 1 - e^{-\\lambda}$\n",
    "\n",
    "This shows, that using our definition of the crosstalk $p_{xt}$, must result in a non-zero crosstalk measurement which is depending on the expectation value of an accidental discharge $\\lambda$ even when there is no crosstalk at all.\n"
   ]
  },
  {
   "cell_type": "code",
   "execution_count": null,
   "metadata": {
    "collapsed": true
   },
   "outputs": [],
   "source": []
  }
 ],
 "metadata": {
  "kernelspec": {
   "display_name": "Python 3",
   "language": "python",
   "name": "python3"
  },
  "language_info": {
   "codemirror_mode": {
    "name": "ipython",
    "version": 3
   },
   "file_extension": ".py",
   "mimetype": "text/x-python",
   "name": "python",
   "nbconvert_exporter": "python",
   "pygments_lexer": "ipython3",
   "version": "3.6.3"
  }
 },
 "nbformat": 4,
 "nbformat_minor": 2
}
